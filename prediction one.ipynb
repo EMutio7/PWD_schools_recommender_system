{
 "cells": [
  {
   "cell_type": "code",
   "execution_count": 14,
   "id": "b1877a0f-3a7e-4d7b-97b6-4e1485149113",
   "metadata": {},
   "outputs": [],
   "source": [
    "import pandas as pd\n",
    "from sklearn.feature_extraction.text import TfidfVectorizer\n",
    "from sklearn.metrics.pairwise import cosine_similarity\n",
    "\n",
    "# Load the data\n",
    "file_path = 'new_special_schools.csv'\n",
    "schools_data = pd.read_csv(file_path)\n",
    "\n",
    "# Fill NaN values in both 'ABOUT' and 'Name' columns\n",
    "schools_data['ABOUT'] = schools_data['ABOUT'].fillna('')\n",
    "schools_data['Name'] = schools_data['Name'].fillna('')\n",
    "\n",
    "# Combine 'Name' and 'ABOUT' into a single column for vectorization\n",
    "schools_data['combined'] = schools_data['Name'] + ' ' + schools_data['ABOUT']\n",
    "\n",
    "# Initialize TF-IDF Vectorizer\n",
    "tfidf_vectorizer = TfidfVectorizer(stop_words='english')\n",
    "tfidf_matrix = tfidf_vectorizer.fit_transform(schools_data['combined'])\n",
    "\n",
    "def recommend_schools(query, city=None):\n",
    "    # Transform the query using the same vectorizer\n",
    "    query_vector = tfidf_vectorizer.transform([query])\n",
    "    \n",
    "    # Calculate cosine similarity\n",
    "    similarities = cosine_similarity(query_vector, tfidf_matrix).flatten()\n",
    "    \n",
    "    # Create a DataFrame to hold the results\n",
    "    results_df = schools_data.copy()\n",
    "    results_df['similarity'] = similarities\n",
    "    \n",
    "    # Filter results by city if specified\n",
    "    if city:\n",
    "        results_df = results_df[results_df['City/Town'].str.contains(city, case=False, na=False)]\n",
    "    \n",
    "    # Sort the results by similarity\n",
    "    results_df = results_df.sort_values(by='similarity', ascending=False)\n",
    "    \n",
    "    # Return the top 5 recommendations\n",
    "    return results_df[['Name', 'City/Town', 'ABOUT', 'similarity']].head(5)\n",
    "\n",
    "# Example usage\n",
    "\n"
   ]
  },
  {
   "cell_type": "code",
   "execution_count": 11,
   "id": "29a82f17-41b0-4cdb-9445-ab0fb3c71e92",
   "metadata": {},
   "outputs": [
    {
     "name": "stdin",
     "output_type": "stream",
     "text": [
      "Disability:  blind\n",
      "City:  Thika \n"
     ]
    }
   ],
   "source": [
    "query =input(\"Disability: \")\n",
    "city=input(\"City: \")"
   ]
  },
  {
   "cell_type": "code",
   "execution_count": 15,
   "id": "880b8b33-537e-48b2-b6f5-35c194654b7b",
   "metadata": {},
   "outputs": [
    {
     "name": "stdout",
     "output_type": "stream",
     "text": [
      "Empty DataFrame\n",
      "Columns: [Name, City/Town, ABOUT, similarity]\n",
      "Index: []\n"
     ]
    }
   ],
   "source": [
    "recommendation_results = recommend_schools(query=query, city=city)\n",
    "print(recommendation_results)"
   ]
  },
  {
   "cell_type": "code",
   "execution_count": null,
   "id": "179d4b37-1291-4dbe-a7e3-c8ad413e18e9",
   "metadata": {},
   "outputs": [],
   "source": []
  }
 ],
 "metadata": {
  "kernelspec": {
   "display_name": "Python 3 (ipykernel)",
   "language": "python",
   "name": "python3"
  },
  "language_info": {
   "codemirror_mode": {
    "name": "ipython",
    "version": 3
   },
   "file_extension": ".py",
   "mimetype": "text/x-python",
   "name": "python",
   "nbconvert_exporter": "python",
   "pygments_lexer": "ipython3",
   "version": "3.11.7"
  }
 },
 "nbformat": 4,
 "nbformat_minor": 5
}
